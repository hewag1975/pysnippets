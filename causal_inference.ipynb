{
 "cells": [
  {
   "cell_type": "markdown",
   "metadata": {},
   "source": [
    "# Causal inference\n",
    " \n",
    "Ressources: \n",
    "- https://www.youtube.com/watch?v=ilpSZiDjdv0\n",
    "- https://github.com/drawlinson/pyconau-dowhy-demo\n",
    "- https://www.pywhy.org\n",
    "\n",
    "Bullet points:\n",
    "- correlation does not mean causation\n",
    "- causality can be inferred through \n",
    "  - randomized controlled trials\n",
    "  - data + a causal model\n",
    "\n",
    "A causal model can be:\n",
    "- specified by expert domain knowledge (elicitation)\n",
    "- learned from data (causal discovery)"
   ]
  },
  {
   "cell_type": "code",
   "execution_count": null,
   "metadata": {},
   "outputs": [],
   "source": [
    "from dowhy import CausalModel"
   ]
  }
 ],
 "metadata": {
  "kernelspec": {
   "display_name": "venv",
   "language": "python",
   "name": "python3"
  },
  "language_info": {
   "name": "python",
   "version": "3.9.18"
  },
  "orig_nbformat": 4
 },
 "nbformat": 4,
 "nbformat_minor": 2
}
