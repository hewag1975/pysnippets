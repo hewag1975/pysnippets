{
 "cells": [
  {
   "cell_type": "markdown",
   "metadata": {},
   "source": [
    "# Causal inference\n",
    " \n",
    "Ressources: \n",
    "- https://www.youtube.com/watch?v=ilpSZiDjdv0\n",
    "- https://github.com/drawlinson/pyconau-dowhy-demo\n",
    "- https://www.pywhy.org\n",
    "\n",
    "Bullet points:\n",
    "- correlation does not mean causation\n",
    "- causality can be inferred through \n",
    "  - randomized controlled trials\n",
    "  - data + a causal model\n",
    "\n",
    "A causal model can be:\n",
    "- specified by expert domain knowledge (elicitation)\n",
    "- learned from data (causal discovery)"
   ]
  },
  {
   "cell_type": "markdown",
   "metadata": {},
   "source": [
    "## Modeling causal relations (from the dowhy user guide)\n",
    "\n",
    "Step 1:\n",
    "- form a causal graph (cause-effect-relationships)\n",
    "- the causal graph can be constructed from domain knowledge or causal structures can be learned from data (graph discovery)\n",
    "\n",
    "Example of a causal graph from domain knowledge"
   ]
  },
  {
   "cell_type": "code",
   "execution_count": 3,
   "metadata": {},
   "outputs": [
    {
     "name": "stdout",
     "output_type": "stream",
     "text": [
      "DiGraph with 3 nodes and 2 edges\n"
     ]
    }
   ],
   "source": [
    "import networkx as nx\n",
    "causal_graph = nx.DiGraph([('X', 'Y'), ('Y', 'Z')])\n",
    "print(causal_graph)"
   ]
  },
  {
   "cell_type": "markdown",
   "metadata": {},
   "source": [
    "The graph object can be passed on to dowhy functions. "
   ]
  },
  {
   "cell_type": "code",
   "execution_count": 1,
   "metadata": {},
   "outputs": [
    {
     "name": "stderr",
     "output_type": "stream",
     "text": [
      "/home/hendrik/Documents/repos/github/pysnippets/venv/lib/python3.9/site-packages/tqdm/auto.py:21: TqdmWarning: IProgress not found. Please update jupyter and ipywidgets. See https://ipywidgets.readthedocs.io/en/stable/user_install.html\n",
      "  from .autonotebook import tqdm as notebook_tqdm\n"
     ]
    }
   ],
   "source": [
    "from dowhy import CausalModel\n",
    "import dowhy.datasets"
   ]
  }
 ],
 "metadata": {
  "kernelspec": {
   "display_name": "venv",
   "language": "python",
   "name": "python3"
  },
  "language_info": {
   "codemirror_mode": {
    "name": "ipython",
    "version": 3
   },
   "file_extension": ".py",
   "mimetype": "text/x-python",
   "name": "python",
   "nbconvert_exporter": "python",
   "pygments_lexer": "ipython3",
   "version": "3.9.18"
  },
  "orig_nbformat": 4
 },
 "nbformat": 4,
 "nbformat_minor": 2
}
