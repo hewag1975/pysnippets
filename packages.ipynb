{
 "cells": [
  {
   "attachments": {},
   "cell_type": "markdown",
   "metadata": {},
   "source": [
    "# Python package setup\n",
    "\n",
    "\n",
    "\n",
    "\n",
    "\n"
   ]
  },
  {
   "attachments": {},
   "cell_type": "markdown",
   "metadata": {},
   "source": [
    "Manual setup\n",
    "\n",
    "Poetry setup\n",
    "\n",
    "* [Poetry docs](https://python-poetry.org/docs/basic-usage/#project-setup)\n",
    "* Poetry installation: `curl -sSL https://install.python-poetry.org | python3 -`\n",
    "* Poetry initialization (within package directory): `poetry new <package-name>`\n",
    "\n",
    "Cookiecutter\n",
    "\n",
    "see [chapter 3 of Python Packages](https://py-pkgs.org/03-how-to-package-a-python#creating-a-package-structure)"
   ]
  },
  {
   "attachments": {},
   "cell_type": "markdown",
   "metadata": {},
   "source": [
    "## Documentation\n",
    "\n",
    "Docstring example:\n",
    "```\n",
    "\"\"\"Header\n",
    "\n",
    "Params:\n",
    "------\n",
    "par1: int/float: description of par1\n",
    "par2: int/float: description of par2\n",
    "...\n",
    "\n",
    "Usage:\n",
    "-----\n",
    ">>> from <package> import <function>\n",
    ">>> function(par1, par2, ...)\n",
    ">>> result\n",
    "\"\"\"\n",
    "```\n",
    "\n",
    "Package documentation:\n",
    "\n",
    "* [MkDocs](https://www.mkdocs.org/)"
   ]
  },
  {
   "attachments": {},
   "cell_type": "markdown",
   "metadata": {},
   "source": [
    "## Dependency management\n",
    "\n",
    "### Poetry \n",
    "\n",
    "* [Poetry docs](https://python-poetry.org/docs/).\n"
   ]
  },
  {
   "attachments": {},
   "cell_type": "markdown",
   "metadata": {},
   "source": [
    "## Package build"
   ]
  },
  {
   "cell_type": "code",
   "execution_count": null,
   "metadata": {
    "vscode": {
     "languageId": "plaintext"
    }
   },
   "outputs": [],
   "source": [
    "import create-license as cl\n",
    "\n"
   ]
  },
  {
   "attachments": {},
   "cell_type": "markdown",
   "metadata": {},
   "source": [
    "## Unit testing\n",
    "\n",
    "PyTest framework\n",
    "\n",
    "`pytest`\n",
    "`pytest-3`\n",
    "`pytest-3 -v` for verbose output\n",
    "`pytest-3 -k <test-name>` for a particular unit test"
   ]
  },
  {
   "attachments": {},
   "cell_type": "markdown",
   "metadata": {},
   "source": [
    "## Useful packages \n",
    "\n",
    "* black (formatting)\n",
    "* bandit (security)\n",
    "* radon\n",
    "* vulture (dead imports)\n",
    "* isort\n",
    "\n",
    "Some functionality of these packages is available through VS code."
   ]
  },
  {
   "attachments": {},
   "cell_type": "markdown",
   "metadata": {},
   "source": [
    "## Resources:\n",
    "\n",
    "* [Best Practices in Python Package Development](https://education.molssi.org/python-package-best-practices/08-testing.html)\n",
    "* [Python Package Development Tutorial](https://www.youtube.com/watch?v=ueuLe4PipiI)"
   ]
  }
 ],
 "metadata": {
  "language_info": {
   "name": "python"
  },
  "orig_nbformat": 4
 },
 "nbformat": 4,
 "nbformat_minor": 2
}
