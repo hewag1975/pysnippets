{
 "cells": [
  {
   "attachments": {},
   "cell_type": "markdown",
   "metadata": {},
   "source": [
    "# Python package setup\n",
    "\n",
    "\n",
    "\n",
    "\n",
    "\n"
   ]
  },
  {
   "attachments": {},
   "cell_type": "markdown",
   "metadata": {},
   "source": [
    "### Introduction\n",
    "\n",
    "There is probably not one-size-fits all solution for setting up a Python package. A good reference in my opinion is the book [Python packages](https://py-pkgs.org/welcome) by Tomas Beuzen and Tiffany Timers. [Chapter 3: How to package a Python](https://py-pkgs.org/03-how-to-package-a-python#package-structure) is basically the approach that is described below.\n",
    "\n",
    "\n",
    "\n",
    "\n",
    "\n"
   ]
  },
  {
   "cell_type": "markdown",
   "metadata": {},
   "source": [
    "### Package structure\n",
    "\n",
    "The recommended structure in the book Pyton packages is as follows: \n",
    "\n",
    "* A root directory with the `<package>` name \n",
    "* A subdirectory `src/<package>` (same name!) containing the Python modules, i.e. files with the extension `.py` containing Python functions\n",
    "* A subdirectory `tests` containing Python files with unit tests\n",
    "* A subdirectory `docs` with additional documentation\n",
    "\n",
    "The root directory contains a number of important files to build and install the package as well as to document updates and usage:\n",
    "\n",
    "* `pyproject.toml` contains technical instructions for the computer on how to build and install the package\n",
    "* `README.md` contains instructions for the user on how to install and use the package (detailed documentation can be in `docs`)\n",
    "* `CHANGELOG.md` contains short descriptions on changes, bug fixes, etc. in new versions\n",
    "* `LICENSE`, `CONDUCT.md`, `CONTRIBUTING.md`, etc. contain further information on contributions, license, etc."
   ]
  },
  {
   "cell_type": "markdown",
   "metadata": {},
   "source": [
    "### Step-by-step setup\n",
    "\n",
    "A quick step-by-step guide is published [here](http://datascience.addium.io/blog/pyproject.html) with the following steps:\n",
    "\n",
    "* Initialize the package folder structure mentioned above using `cookiecutter` with the template `https://github.com/py-pkgs/py-pkgs-cookiecutter.git`\n",
    "* Put the package under version control using `git init`\n",
    "* Create a remote repository and add its remote url to the local package and commit the setup \n",
    "* Setup a virtual environment named `.venv` inside the package using `python3 -m venv .venv`\n",
    "* Add some devtools for package creation using `poetry` as it will automatically update the `pyconfig.toml`:\n",
    "  * `pytest` framwork for unit testing: `poetry add --group dev pytest pytest-cov`\n",
    "  * `jupyter` for writing vignettes/examples: `poetry add --group dev jupyter`\n",
    "  * `sphinx` for rendering the documentation to HTML: `poetry add --group dev sphinx-autoapi sphinx-rtd-theme myst-nb --python \"^3.10\"`\n",
    "  * `black` for code auto-formatting: `poetry add --group dev black`\n",
    "  * `ruff` for code linting: `poetry add --group dev ruff`\n",
    "  * `mypy` for type checking: `poetry add --group dev mypy`\n",
    "* Add dependencies likewise using `poetry add` to auto-update the `pyconfig.toml`, e.g. `poetry add numpy`"
   ]
  },
  {
   "cell_type": "markdown",
   "metadata": {},
   "source": [
    "### Alternative setup with Poetry\n",
    "\n",
    "* [Poetry docs](https://python-poetry.org/docs/basic-usage/#project-setup)\n",
    "* Poetry installation: `curl -sSL https://install.python-poetry.org | python3 -`\n",
    "* Poetry initialization (within package directory): `poetry new <package-name>`"
   ]
  },
  {
   "attachments": {},
   "cell_type": "markdown",
   "metadata": {},
   "source": [
    "## Documentation\n",
    "\n",
    "Docstring example:\n",
    "```\n",
    "\"\"\"Header\n",
    "\n",
    "Params:\n",
    "------\n",
    "par1: int/float: description of par1\n",
    "par2: int/float: description of par2\n",
    "...\n",
    "\n",
    "Usage:\n",
    "-----\n",
    ">>> from <package> import <function>\n",
    ">>> function(par1, par2, ...)\n",
    ">>> result\n",
    "\"\"\"\n",
    "```\n",
    "\n",
    "Package documentation:\n",
    "\n",
    "* [MkDocs](https://www.mkdocs.org/)"
   ]
  },
  {
   "attachments": {},
   "cell_type": "markdown",
   "metadata": {},
   "source": [
    "## Dependency management\n",
    "\n",
    "### Poetry \n",
    "\n",
    "* [Poetry docs](https://python-poetry.org/docs/).\n"
   ]
  },
  {
   "attachments": {},
   "cell_type": "markdown",
   "metadata": {},
   "source": [
    "## Package build"
   ]
  },
  {
   "cell_type": "code",
   "execution_count": null,
   "metadata": {
    "vscode": {
     "languageId": "plaintext"
    }
   },
   "outputs": [],
   "source": [
    "import create-license as cl\n",
    "\n"
   ]
  },
  {
   "attachments": {},
   "cell_type": "markdown",
   "metadata": {},
   "source": [
    "## Unit testing\n",
    "\n",
    "PyTest framework\n",
    "\n",
    "`pytest`\n",
    "`pytest-3`\n",
    "`pytest-3 -v` for verbose output\n",
    "`pytest-3 -k <test-name>` for a particular unit test"
   ]
  },
  {
   "attachments": {},
   "cell_type": "markdown",
   "metadata": {},
   "source": [
    "## Useful packages \n",
    "\n",
    "* black (formatting)\n",
    "* bandit (security)\n",
    "* radon\n",
    "* vulture (dead imports)\n",
    "* isort\n",
    "\n",
    "Some functionality of these packages is available through VS code."
   ]
  },
  {
   "attachments": {},
   "cell_type": "markdown",
   "metadata": {},
   "source": [
    "## Resources:\n",
    "\n",
    "* [Best Practices in Python Package Development](https://education.molssi.org/python-package-best-practices/08-testing.html)\n",
    "* [Python Package Development Tutorial](https://www.youtube.com/watch?v=ueuLe4PipiI)"
   ]
  }
 ],
 "metadata": {
  "language_info": {
   "name": "python"
  },
  "orig_nbformat": 4
 },
 "nbformat": 4,
 "nbformat_minor": 2
}
