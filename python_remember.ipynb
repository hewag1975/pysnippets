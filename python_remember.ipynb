{
 "cells": [
  {
   "attachments": {},
   "cell_type": "markdown",
   "metadata": {},
   "source": [
    "# Python: Things to remember\n",
    "\n"
   ]
  },
  {
   "attachments": {},
   "cell_type": "markdown",
   "metadata": {},
   "source": [
    "## General"
   ]
  },
  {
   "attachments": {},
   "cell_type": "markdown",
   "metadata": {},
   "source": [
    "### Importing modules\n",
    "\n",
    "When importing modules, Python checks all locations listed in `sys.path`. Usually, the path of the current project directory appears first, followed by directories from the Python path env variables, the standard library directories and the site packages directory for external libraries."
   ]
  },
  {
   "cell_type": "code",
   "execution_count": 1,
   "metadata": {},
   "outputs": [
    {
     "name": "stdout",
     "output_type": "stream",
     "text": [
      "['/home/hendrik/Documents/repos/github/pysnippets', '/usr/lib/python39.zip', '/usr/lib/python3.9', '/usr/lib/python3.9/lib-dynload', '', '/home/hendrik/Documents/repos/github/pysnippets/venv/lib/python3.9/site-packages']\n"
     ]
    }
   ],
   "source": [
    "import sys\n",
    "print(sys.path)"
   ]
  },
  {
   "attachments": {},
   "cell_type": "markdown",
   "metadata": {},
   "source": [
    "If a module is located somewhere else (e.g. in `/home/hendrik/mymodeules`), the path can be added to the search path like below:"
   ]
  },
  {
   "cell_type": "code",
   "execution_count": 2,
   "metadata": {},
   "outputs": [
    {
     "name": "stdout",
     "output_type": "stream",
     "text": [
      "['/home/hendrik/Documents/repos/github/pysnippets', '/usr/lib/python39.zip', '/usr/lib/python3.9', '/usr/lib/python3.9/lib-dynload', '', '/home/hendrik/Documents/repos/github/pysnippets/venv/lib/python3.9/site-packages', '/home/hendrik/mymodules']\n"
     ]
    }
   ],
   "source": [
    "import sys\n",
    "sys.path.append('/home/hendrik/mymodules')\n",
    "print(sys.path)"
   ]
  },
  {
   "attachments": {},
   "cell_type": "markdown",
   "metadata": {},
   "source": [
    "In order to not having to add this to every script, a better approach is to add the path to the Python env variable."
   ]
  },
  {
   "cell_type": "code",
   "execution_count": 12,
   "metadata": {},
   "outputs": [
    {
     "name": "stdout",
     "output_type": "stream",
     "text": [
      "['/home/hendrik/Documents/repos/github/pysnippets', '/usr/lib/python39.zip', '/usr/lib/python3.9', '/usr/lib/python3.9/lib-dynload', '', '/home/hendrik/Documents/repos/github/pysnippets/venv/lib/python3.9/site-packages']\n"
     ]
    }
   ],
   "source": [
    "!export PYTHONPATH=\"/home/hendrik/mymodule2\"\n",
    "!printenv | grep PYTHONPATH\n",
    "print(sys.path)"
   ]
  },
  {
   "attachments": {},
   "cell_type": "markdown",
   "metadata": {},
   "source": [
    "### Conversion of Jupyter notebook to markdown\n",
    "\n",
    "For publishing on platforms such as GitLab or GitHub it is often required to have your README in markdown format to be auto-rendered.\n",
    "Jupyter notebooks can be rendered to markdown format using: \n",
    "\n",
    "`jupyter nbconvert my_notebook.ipynb --to markdown --output output.md`\n",
    "\n",
    "(see [Exporting a notebook](https://reproducible-science-curriculum.github.io/publication-RR-Jupyter/02-exporting_the_notebook/index.html))."
   ]
  },
  {
   "attachments": {},
   "cell_type": "markdown",
   "metadata": {},
   "source": [
    "## Module caching\n",
    "Imported modules are chached, see [this blog](https://www.pythonmorsels.com/modules-are-cached/). The recommended solution is to restart the Python REPL. However, this can be pretty nasty during development. A solution is provided by the `importlib` module. "
   ]
  },
  {
   "cell_type": "code",
   "execution_count": 4,
   "metadata": {},
   "outputs": [],
   "source": [
    "# import math\n",
    "\n",
    "# from importlib import reload\n",
    "# reload(math)'"
   ]
  },
  {
   "attachments": {},
   "cell_type": "markdown",
   "metadata": {},
   "source": [
    "## General\n",
    "### "
   ]
  },
  {
   "attachments": {},
   "cell_type": "markdown",
   "metadata": {},
   "source": [
    "### VS Code\n",
    "\n",
    "Unclear:\n",
    "* code formatting\n",
    "* code linting\n",
    "\n",
    "VS code settings: \n",
    "* default settings\n",
    "* user settings\n",
    "* workspace settings (see `./.vscode/settings.json`)\n",
    "\n",
    "User and workspace settings only show deviations from default settings.\n",
    "\n",
    "Virtual environment:\n",
    "* create virtual environment `python -m venv venv`\n",
    "* VS code automatically detects virtual environments within the project directory\n",
    "\n",
    "Editor:\n",
    "* append imported library with \".\" (e.g. sys.) will open list of methods and definitions\n",
    "\n",
    "Code formatting:\n",
    "\n",
    "General shortcuts:\n",
    "* command palette: Ctrl + Shift + P\n",
    "* settings: Ctrl + ,\n",
    "\n",
    "Editor shortcuts:\n",
    "* delete line: Ctrl + X\n",
    "* go to definition of a method: F12\n",
    "* go to peek definition of a method: Ctrl + Shift + F10\n",
    "* duplicate row: Alt + Shift + Down (via keybindings)\n",
    "* delete line: Ctrl + X\n",
    "* execute line and move on: Ctrl + Enter (via keybindings)\n",
    "\n",
    "Jupyter shortcuts:\n",
    "* execute code cell in Jupyter: Ctrl + Alt + Shift + Enter\n",
    "\n",
    "Unit testing:\n",
    "\n",
    "\n",
    "\n"
   ]
  }
 ],
 "metadata": {
  "kernelspec": {
   "display_name": "venv",
   "language": "python",
   "name": "python3"
  },
  "language_info": {
   "codemirror_mode": {
    "name": "ipython",
    "version": 3
   },
   "file_extension": ".py",
   "mimetype": "text/x-python",
   "name": "python",
   "nbconvert_exporter": "python",
   "pygments_lexer": "ipython3",
   "version": "3.9.17"
  },
  "orig_nbformat": 4
 },
 "nbformat": 4,
 "nbformat_minor": 2
}
